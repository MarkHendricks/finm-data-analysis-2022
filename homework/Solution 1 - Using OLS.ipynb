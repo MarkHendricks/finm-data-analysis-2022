{
 "cells": [
  {
   "cell_type": "markdown",
   "id": "54c0d594",
   "metadata": {},
   "source": [
    "# Solution 1 - Using OLS"
   ]
  },
  {
   "cell_type": "code",
   "execution_count": 1,
   "id": "8bd80e76",
   "metadata": {
    "ExecuteTime": {
     "end_time": "2021-06-24T01:37:08.632979Z",
     "start_time": "2021-06-24T01:37:08.625990Z"
    }
   },
   "outputs": [],
   "source": [
    "import pandas as pd\n",
    "import numpy as np\n",
    "import statsmodels.api as sm\n",
    "from sklearn.linear_model import LinearRegression\n",
    "from matplotlib import pyplot as plt"
   ]
  },
  {
   "cell_type": "code",
   "execution_count": 2,
   "id": "a6c0b28f",
   "metadata": {},
   "outputs": [
    {
     "data": {
      "text/html": [
       "<div>\n",
       "<style scoped>\n",
       "    .dataframe tbody tr th:only-of-type {\n",
       "        vertical-align: middle;\n",
       "    }\n",
       "\n",
       "    .dataframe tbody tr th {\n",
       "        vertical-align: top;\n",
       "    }\n",
       "\n",
       "    .dataframe thead th {\n",
       "        text-align: right;\n",
       "    }\n",
       "</style>\n",
       "<table border=\"1\" class=\"dataframe\">\n",
       "  <thead>\n",
       "    <tr style=\"text-align: right;\">\n",
       "      <th></th>\n",
       "      <th>ETF Description</th>\n",
       "    </tr>\n",
       "    <tr>\n",
       "      <th>Ticker</th>\n",
       "      <th></th>\n",
       "    </tr>\n",
       "  </thead>\n",
       "  <tbody>\n",
       "    <tr>\n",
       "      <th>SPY</th>\n",
       "      <td>Domestic Equity SPDR S&amp;P500</td>\n",
       "    </tr>\n",
       "    <tr>\n",
       "      <th>EFA</th>\n",
       "      <td>Foreign Equity iShares EAFE</td>\n",
       "    </tr>\n",
       "    <tr>\n",
       "      <th>EEM</th>\n",
       "      <td>iShares Emerging Markets</td>\n",
       "    </tr>\n",
       "    <tr>\n",
       "      <th>PSP</th>\n",
       "      <td>Private Equity Invesco Global Private Equity</td>\n",
       "    </tr>\n",
       "    <tr>\n",
       "      <th>QAI</th>\n",
       "      <td>Absolute Return IQ Multi-Strat</td>\n",
       "    </tr>\n",
       "    <tr>\n",
       "      <th>HYG</th>\n",
       "      <td>High Yield iShares High Yield Corporate Bond</td>\n",
       "    </tr>\n",
       "    <tr>\n",
       "      <th>DBC</th>\n",
       "      <td>Invesco DB Commodity Index Tracking Fund</td>\n",
       "    </tr>\n",
       "    <tr>\n",
       "      <th>IYR</th>\n",
       "      <td>Real Estate iShares US Real Estate</td>\n",
       "    </tr>\n",
       "    <tr>\n",
       "      <th>IEF</th>\n",
       "      <td>Domestic Bonds iShares 7-10 Year Treasury</td>\n",
       "    </tr>\n",
       "    <tr>\n",
       "      <th>BWX</th>\n",
       "      <td>Foreign Bonds SPDR Bloomberg Barclay Internati...</td>\n",
       "    </tr>\n",
       "    <tr>\n",
       "      <th>TIP</th>\n",
       "      <td>Inflation-Indexed iShares TIPS Bond</td>\n",
       "    </tr>\n",
       "    <tr>\n",
       "      <th>SHV</th>\n",
       "      <td>iShares Short Treasury Bond</td>\n",
       "    </tr>\n",
       "  </tbody>\n",
       "</table>\n",
       "</div>"
      ],
      "text/plain": [
       "                                          ETF Description\n",
       "Ticker                                                   \n",
       "SPY                           Domestic Equity SPDR S&P500\n",
       "EFA                           Foreign Equity iShares EAFE\n",
       "EEM                              iShares Emerging Markets\n",
       "PSP          Private Equity Invesco Global Private Equity\n",
       "QAI                        Absolute Return IQ Multi-Strat\n",
       "HYG          High Yield iShares High Yield Corporate Bond\n",
       "DBC              Invesco DB Commodity Index Tracking Fund\n",
       "IYR                    Real Estate iShares US Real Estate\n",
       "IEF             Domestic Bonds iShares 7-10 Year Treasury\n",
       "BWX     Foreign Bonds SPDR Bloomberg Barclay Internati...\n",
       "TIP                   Inflation-Indexed iShares TIPS Bond\n",
       "SHV                           iShares Short Treasury Bond"
      ]
     },
     "execution_count": 2,
     "metadata": {},
     "output_type": "execute_result"
    }
   ],
   "source": [
    "LOADFILE = \"../data/hw_1_data.xlsx\"\n",
    "info = pd.read_excel(LOADFILE,sheet_name='info').rename(columns={'Unnamed: 0':'Ticker'}).set_index('Ticker')\n",
    "info"
   ]
  },
  {
   "cell_type": "code",
   "execution_count": 3,
   "id": "0b185191",
   "metadata": {
    "ExecuteTime": {
     "end_time": "2021-06-24T01:37:08.687141Z",
     "start_time": "2021-06-24T01:37:08.635377Z"
    }
   },
   "outputs": [
    {
     "data": {
      "text/html": [
       "<div>\n",
       "<style scoped>\n",
       "    .dataframe tbody tr th:only-of-type {\n",
       "        vertical-align: middle;\n",
       "    }\n",
       "\n",
       "    .dataframe tbody tr th {\n",
       "        vertical-align: top;\n",
       "    }\n",
       "\n",
       "    .dataframe thead th {\n",
       "        text-align: right;\n",
       "    }\n",
       "</style>\n",
       "<table border=\"1\" class=\"dataframe\">\n",
       "  <thead>\n",
       "    <tr style=\"text-align: right;\">\n",
       "      <th></th>\n",
       "      <th>SPY</th>\n",
       "      <th>EFA</th>\n",
       "      <th>EEM</th>\n",
       "      <th>PSP</th>\n",
       "      <th>QAI</th>\n",
       "      <th>HYG</th>\n",
       "      <th>DBC</th>\n",
       "      <th>IYR</th>\n",
       "      <th>IEF</th>\n",
       "      <th>BWX</th>\n",
       "      <th>TIP</th>\n",
       "      <th>SHV</th>\n",
       "    </tr>\n",
       "    <tr>\n",
       "      <th>Date</th>\n",
       "      <th></th>\n",
       "      <th></th>\n",
       "      <th></th>\n",
       "      <th></th>\n",
       "      <th></th>\n",
       "      <th></th>\n",
       "      <th></th>\n",
       "      <th></th>\n",
       "      <th></th>\n",
       "      <th></th>\n",
       "      <th></th>\n",
       "      <th></th>\n",
       "    </tr>\n",
       "  </thead>\n",
       "  <tbody>\n",
       "    <tr>\n",
       "      <th>2009-04-30</th>\n",
       "      <td>0.099346</td>\n",
       "      <td>0.115190</td>\n",
       "      <td>0.155582</td>\n",
       "      <td>0.230203</td>\n",
       "      <td>0.022882</td>\n",
       "      <td>0.138460</td>\n",
       "      <td>-0.001000</td>\n",
       "      <td>0.296151</td>\n",
       "      <td>-0.027453</td>\n",
       "      <td>0.008993</td>\n",
       "      <td>-0.017952</td>\n",
       "      <td>0.000554</td>\n",
       "    </tr>\n",
       "    <tr>\n",
       "      <th>2009-05-31</th>\n",
       "      <td>0.058454</td>\n",
       "      <td>0.131918</td>\n",
       "      <td>0.159400</td>\n",
       "      <td>0.053892</td>\n",
       "      <td>0.027865</td>\n",
       "      <td>0.028555</td>\n",
       "      <td>0.162663</td>\n",
       "      <td>0.022727</td>\n",
       "      <td>-0.020773</td>\n",
       "      <td>0.053672</td>\n",
       "      <td>0.019967</td>\n",
       "      <td>-0.000472</td>\n",
       "    </tr>\n",
       "    <tr>\n",
       "      <th>2009-06-30</th>\n",
       "      <td>-0.000655</td>\n",
       "      <td>-0.014049</td>\n",
       "      <td>-0.022495</td>\n",
       "      <td>0.045449</td>\n",
       "      <td>-0.003436</td>\n",
       "      <td>0.033517</td>\n",
       "      <td>-0.026259</td>\n",
       "      <td>-0.024862</td>\n",
       "      <td>-0.005571</td>\n",
       "      <td>0.005149</td>\n",
       "      <td>0.001981</td>\n",
       "      <td>0.000600</td>\n",
       "    </tr>\n",
       "    <tr>\n",
       "      <th>2009-07-31</th>\n",
       "      <td>0.074607</td>\n",
       "      <td>0.100415</td>\n",
       "      <td>0.110146</td>\n",
       "      <td>0.143247</td>\n",
       "      <td>0.015325</td>\n",
       "      <td>0.069190</td>\n",
       "      <td>0.018568</td>\n",
       "      <td>0.105799</td>\n",
       "      <td>0.008317</td>\n",
       "      <td>0.031284</td>\n",
       "      <td>0.000879</td>\n",
       "      <td>-0.000027</td>\n",
       "    </tr>\n",
       "    <tr>\n",
       "      <th>2009-08-31</th>\n",
       "      <td>0.036939</td>\n",
       "      <td>0.045031</td>\n",
       "      <td>-0.013136</td>\n",
       "      <td>0.033413</td>\n",
       "      <td>-0.004151</td>\n",
       "      <td>-0.016969</td>\n",
       "      <td>-0.040365</td>\n",
       "      <td>0.131939</td>\n",
       "      <td>0.007633</td>\n",
       "      <td>0.007628</td>\n",
       "      <td>0.008414</td>\n",
       "      <td>0.000436</td>\n",
       "    </tr>\n",
       "    <tr>\n",
       "      <th>...</th>\n",
       "      <td>...</td>\n",
       "      <td>...</td>\n",
       "      <td>...</td>\n",
       "      <td>...</td>\n",
       "      <td>...</td>\n",
       "      <td>...</td>\n",
       "      <td>...</td>\n",
       "      <td>...</td>\n",
       "      <td>...</td>\n",
       "      <td>...</td>\n",
       "      <td>...</td>\n",
       "      <td>...</td>\n",
       "    </tr>\n",
       "    <tr>\n",
       "      <th>2022-01-31</th>\n",
       "      <td>-0.052741</td>\n",
       "      <td>-0.036350</td>\n",
       "      <td>-0.000205</td>\n",
       "      <td>-0.086028</td>\n",
       "      <td>-0.020761</td>\n",
       "      <td>-0.026549</td>\n",
       "      <td>0.078922</td>\n",
       "      <td>-0.082314</td>\n",
       "      <td>-0.021130</td>\n",
       "      <td>-0.026176</td>\n",
       "      <td>-0.020588</td>\n",
       "      <td>-0.000815</td>\n",
       "    </tr>\n",
       "    <tr>\n",
       "      <th>2022-02-28</th>\n",
       "      <td>-0.029517</td>\n",
       "      <td>-0.034292</td>\n",
       "      <td>-0.043202</td>\n",
       "      <td>-0.073602</td>\n",
       "      <td>-0.006746</td>\n",
       "      <td>-0.008591</td>\n",
       "      <td>0.064674</td>\n",
       "      <td>-0.045881</td>\n",
       "      <td>-0.003041</td>\n",
       "      <td>-0.011197</td>\n",
       "      <td>0.008557</td>\n",
       "      <td>-0.000363</td>\n",
       "    </tr>\n",
       "    <tr>\n",
       "      <th>2022-03-31</th>\n",
       "      <td>0.037590</td>\n",
       "      <td>0.005190</td>\n",
       "      <td>-0.033811</td>\n",
       "      <td>-0.007721</td>\n",
       "      <td>-0.002587</td>\n",
       "      <td>-0.012871</td>\n",
       "      <td>0.091747</td>\n",
       "      <td>0.068646</td>\n",
       "      <td>-0.040609</td>\n",
       "      <td>-0.042240</td>\n",
       "      <td>-0.018755</td>\n",
       "      <td>-0.000363</td>\n",
       "    </tr>\n",
       "    <tr>\n",
       "      <th>2022-04-30</th>\n",
       "      <td>-0.087769</td>\n",
       "      <td>-0.067391</td>\n",
       "      <td>-0.061351</td>\n",
       "      <td>-0.125679</td>\n",
       "      <td>-0.033398</td>\n",
       "      <td>-0.041803</td>\n",
       "      <td>0.056408</td>\n",
       "      <td>-0.041305</td>\n",
       "      <td>-0.042283</td>\n",
       "      <td>-0.069696</td>\n",
       "      <td>-0.021830</td>\n",
       "      <td>-0.000290</td>\n",
       "    </tr>\n",
       "    <tr>\n",
       "      <th>2022-05-31</th>\n",
       "      <td>0.007913</td>\n",
       "      <td>0.026078</td>\n",
       "      <td>-0.007787</td>\n",
       "      <td>0.013310</td>\n",
       "      <td>-0.002348</td>\n",
       "      <td>0.025120</td>\n",
       "      <td>0.053396</td>\n",
       "      <td>-0.032675</td>\n",
       "      <td>0.016799</td>\n",
       "      <td>0.011250</td>\n",
       "      <td>-0.002847</td>\n",
       "      <td>0.000935</td>\n",
       "    </tr>\n",
       "  </tbody>\n",
       "</table>\n",
       "<p>158 rows × 12 columns</p>\n",
       "</div>"
      ],
      "text/plain": [
       "                 SPY       EFA       EEM       PSP       QAI       HYG  \\\n",
       "Date                                                                     \n",
       "2009-04-30  0.099346  0.115190  0.155582  0.230203  0.022882  0.138460   \n",
       "2009-05-31  0.058454  0.131918  0.159400  0.053892  0.027865  0.028555   \n",
       "2009-06-30 -0.000655 -0.014049 -0.022495  0.045449 -0.003436  0.033517   \n",
       "2009-07-31  0.074607  0.100415  0.110146  0.143247  0.015325  0.069190   \n",
       "2009-08-31  0.036939  0.045031 -0.013136  0.033413 -0.004151 -0.016969   \n",
       "...              ...       ...       ...       ...       ...       ...   \n",
       "2022-01-31 -0.052741 -0.036350 -0.000205 -0.086028 -0.020761 -0.026549   \n",
       "2022-02-28 -0.029517 -0.034292 -0.043202 -0.073602 -0.006746 -0.008591   \n",
       "2022-03-31  0.037590  0.005190 -0.033811 -0.007721 -0.002587 -0.012871   \n",
       "2022-04-30 -0.087769 -0.067391 -0.061351 -0.125679 -0.033398 -0.041803   \n",
       "2022-05-31  0.007913  0.026078 -0.007787  0.013310 -0.002348  0.025120   \n",
       "\n",
       "                 DBC       IYR       IEF       BWX       TIP       SHV  \n",
       "Date                                                                    \n",
       "2009-04-30 -0.001000  0.296151 -0.027453  0.008993 -0.017952  0.000554  \n",
       "2009-05-31  0.162663  0.022727 -0.020773  0.053672  0.019967 -0.000472  \n",
       "2009-06-30 -0.026259 -0.024862 -0.005571  0.005149  0.001981  0.000600  \n",
       "2009-07-31  0.018568  0.105799  0.008317  0.031284  0.000879 -0.000027  \n",
       "2009-08-31 -0.040365  0.131939  0.007633  0.007628  0.008414  0.000436  \n",
       "...              ...       ...       ...       ...       ...       ...  \n",
       "2022-01-31  0.078922 -0.082314 -0.021130 -0.026176 -0.020588 -0.000815  \n",
       "2022-02-28  0.064674 -0.045881 -0.003041 -0.011197  0.008557 -0.000363  \n",
       "2022-03-31  0.091747  0.068646 -0.040609 -0.042240 -0.018755 -0.000363  \n",
       "2022-04-30  0.056408 -0.041305 -0.042283 -0.069696 -0.021830 -0.000290  \n",
       "2022-05-31  0.053396 -0.032675  0.016799  0.011250 -0.002847  0.000935  \n",
       "\n",
       "[158 rows x 12 columns]"
      ]
     },
     "execution_count": 3,
     "metadata": {},
     "output_type": "execute_result"
    }
   ],
   "source": [
    "rets = pd.read_excel(LOADFILE,sheet_name='security returns').set_index('Date')\n",
    "rets"
   ]
  },
  {
   "cell_type": "code",
   "execution_count": 4,
   "id": "605d6e5b",
   "metadata": {},
   "outputs": [
    {
     "data": {
      "text/html": [
       "<div>\n",
       "<style scoped>\n",
       "    .dataframe tbody tr th:only-of-type {\n",
       "        vertical-align: middle;\n",
       "    }\n",
       "\n",
       "    .dataframe tbody tr th {\n",
       "        vertical-align: top;\n",
       "    }\n",
       "\n",
       "    .dataframe thead th {\n",
       "        text-align: right;\n",
       "    }\n",
       "</style>\n",
       "<table border=\"1\" class=\"dataframe\">\n",
       "  <thead>\n",
       "    <tr style=\"text-align: right;\">\n",
       "      <th></th>\n",
       "      <th>portfolio</th>\n",
       "    </tr>\n",
       "    <tr>\n",
       "      <th>Date</th>\n",
       "      <th></th>\n",
       "    </tr>\n",
       "  </thead>\n",
       "  <tbody>\n",
       "    <tr>\n",
       "      <th>2009-04-30</th>\n",
       "      <td>0.130446</td>\n",
       "    </tr>\n",
       "    <tr>\n",
       "      <th>2009-05-31</th>\n",
       "      <td>0.020928</td>\n",
       "    </tr>\n",
       "    <tr>\n",
       "      <th>2009-06-30</th>\n",
       "      <td>0.002895</td>\n",
       "    </tr>\n",
       "    <tr>\n",
       "      <th>2009-07-31</th>\n",
       "      <td>0.068172</td>\n",
       "    </tr>\n",
       "    <tr>\n",
       "      <th>2009-08-31</th>\n",
       "      <td>0.042209</td>\n",
       "    </tr>\n",
       "    <tr>\n",
       "      <th>...</th>\n",
       "      <td>...</td>\n",
       "    </tr>\n",
       "    <tr>\n",
       "      <th>2022-01-31</th>\n",
       "      <td>-0.052559</td>\n",
       "    </tr>\n",
       "    <tr>\n",
       "      <th>2022-02-28</th>\n",
       "      <td>-0.032318</td>\n",
       "    </tr>\n",
       "    <tr>\n",
       "      <th>2022-03-31</th>\n",
       "      <td>0.004432</td>\n",
       "    </tr>\n",
       "    <tr>\n",
       "      <th>2022-04-30</th>\n",
       "      <td>-0.060666</td>\n",
       "    </tr>\n",
       "    <tr>\n",
       "      <th>2022-05-31</th>\n",
       "      <td>-0.001229</td>\n",
       "    </tr>\n",
       "  </tbody>\n",
       "</table>\n",
       "<p>158 rows × 1 columns</p>\n",
       "</div>"
      ],
      "text/plain": [
       "            portfolio\n",
       "Date                 \n",
       "2009-04-30   0.130446\n",
       "2009-05-31   0.020928\n",
       "2009-06-30   0.002895\n",
       "2009-07-31   0.068172\n",
       "2009-08-31   0.042209\n",
       "...               ...\n",
       "2022-01-31  -0.052559\n",
       "2022-02-28  -0.032318\n",
       "2022-03-31   0.004432\n",
       "2022-04-30  -0.060666\n",
       "2022-05-31  -0.001229\n",
       "\n",
       "[158 rows x 1 columns]"
      ]
     },
     "execution_count": 4,
     "metadata": {},
     "output_type": "execute_result"
    }
   ],
   "source": [
    "port =  pd.read_excel(LOADFILE,sheet_name='portfolio returns').set_index('Date')\n",
    "port"
   ]
  },
  {
   "cell_type": "markdown",
   "id": "d6b72931",
   "metadata": {},
   "source": [
    "# Regression\n",
    "\n",
    "## 1"
   ]
  },
  {
   "cell_type": "code",
   "execution_count": 5,
   "id": "f622a42f",
   "metadata": {
    "ExecuteTime": {
     "end_time": "2021-06-24T01:37:08.773349Z",
     "start_time": "2021-06-24T01:37:08.764291Z"
    }
   },
   "outputs": [
    {
     "data": {
      "text/html": [
       "<table class=\"simpletable\">\n",
       "<caption>OLS Regression Results</caption>\n",
       "<tr>\n",
       "  <th>Dep. Variable:</th>        <td>portfolio</td>    <th>  R-squared:         </th> <td>   0.745</td>\n",
       "</tr>\n",
       "<tr>\n",
       "  <th>Model:</th>                   <td>OLS</td>       <th>  Adj. R-squared:    </th> <td>   0.743</td>\n",
       "</tr>\n",
       "<tr>\n",
       "  <th>Method:</th>             <td>Least Squares</td>  <th>  F-statistic:       </th> <td>   455.5</td>\n",
       "</tr>\n",
       "<tr>\n",
       "  <th>Date:</th>             <td>Tue, 09 Aug 2022</td> <th>  Prob (F-statistic):</th> <td>3.93e-48</td>\n",
       "</tr>\n",
       "<tr>\n",
       "  <th>Time:</th>                 <td>18:21:19</td>     <th>  Log-Likelihood:    </th> <td>  443.21</td>\n",
       "</tr>\n",
       "<tr>\n",
       "  <th>No. Observations:</th>      <td>   158</td>      <th>  AIC:               </th> <td>  -882.4</td>\n",
       "</tr>\n",
       "<tr>\n",
       "  <th>Df Residuals:</th>          <td>   156</td>      <th>  BIC:               </th> <td>  -876.3</td>\n",
       "</tr>\n",
       "<tr>\n",
       "  <th>Df Model:</th>              <td>     1</td>      <th>                     </th>     <td> </td>   \n",
       "</tr>\n",
       "<tr>\n",
       "  <th>Covariance Type:</th>      <td>nonrobust</td>    <th>                     </th>     <td> </td>   \n",
       "</tr>\n",
       "</table>\n",
       "<table class=\"simpletable\">\n",
       "<tr>\n",
       "    <td></td>       <th>coef</th>     <th>std err</th>      <th>t</th>      <th>P>|t|</th>  <th>[0.025</th>    <th>0.975]</th>  \n",
       "</tr>\n",
       "<tr>\n",
       "  <th>const</th> <td>   -0.0006</td> <td>    0.001</td> <td>   -0.479</td> <td> 0.633</td> <td>   -0.003</td> <td>    0.002</td>\n",
       "</tr>\n",
       "<tr>\n",
       "  <th>SPY</th>   <td>    0.6142</td> <td>    0.029</td> <td>   21.342</td> <td> 0.000</td> <td>    0.557</td> <td>    0.671</td>\n",
       "</tr>\n",
       "</table>\n",
       "<table class=\"simpletable\">\n",
       "<tr>\n",
       "  <th>Omnibus:</th>       <td>21.658</td> <th>  Durbin-Watson:     </th> <td>   1.946</td>\n",
       "</tr>\n",
       "<tr>\n",
       "  <th>Prob(Omnibus):</th> <td> 0.000</td> <th>  Jarque-Bera (JB):  </th> <td>  65.437</td>\n",
       "</tr>\n",
       "<tr>\n",
       "  <th>Skew:</th>          <td> 0.448</td> <th>  Prob(JB):          </th> <td>6.17e-15</td>\n",
       "</tr>\n",
       "<tr>\n",
       "  <th>Kurtosis:</th>      <td> 6.023</td> <th>  Cond. No.          </th> <td>    24.6</td>\n",
       "</tr>\n",
       "</table><br/><br/>Notes:<br/>[1] Standard Errors assume that the covariance matrix of the errors is correctly specified."
      ],
      "text/plain": [
       "<class 'statsmodels.iolib.summary.Summary'>\n",
       "\"\"\"\n",
       "                            OLS Regression Results                            \n",
       "==============================================================================\n",
       "Dep. Variable:              portfolio   R-squared:                       0.745\n",
       "Model:                            OLS   Adj. R-squared:                  0.743\n",
       "Method:                 Least Squares   F-statistic:                     455.5\n",
       "Date:                Tue, 09 Aug 2022   Prob (F-statistic):           3.93e-48\n",
       "Time:                        18:21:19   Log-Likelihood:                 443.21\n",
       "No. Observations:                 158   AIC:                            -882.4\n",
       "Df Residuals:                     156   BIC:                            -876.3\n",
       "Df Model:                           1                                         \n",
       "Covariance Type:            nonrobust                                         \n",
       "==============================================================================\n",
       "                 coef    std err          t      P>|t|      [0.025      0.975]\n",
       "------------------------------------------------------------------------------\n",
       "const         -0.0006      0.001     -0.479      0.633      -0.003       0.002\n",
       "SPY            0.6142      0.029     21.342      0.000       0.557       0.671\n",
       "==============================================================================\n",
       "Omnibus:                       21.658   Durbin-Watson:                   1.946\n",
       "Prob(Omnibus):                  0.000   Jarque-Bera (JB):               65.437\n",
       "Skew:                           0.448   Prob(JB):                     6.17e-15\n",
       "Kurtosis:                       6.023   Cond. No.                         24.6\n",
       "==============================================================================\n",
       "\n",
       "Notes:\n",
       "[1] Standard Errors assume that the covariance matrix of the errors is correctly specified.\n",
       "\"\"\""
      ]
     },
     "execution_count": 5,
     "metadata": {},
     "output_type": "execute_result"
    }
   ],
   "source": [
    "X = sm.add_constant(rets['SPY'])\n",
    "y = port\n",
    "mod = sm.OLS(y, X).fit()\n",
    "mod.summary()"
   ]
  },
  {
   "cell_type": "markdown",
   "id": "6c34bfd6",
   "metadata": {},
   "source": [
    "## 2"
   ]
  },
  {
   "cell_type": "code",
   "execution_count": 6,
   "id": "252b791b",
   "metadata": {
    "ExecuteTime": {
     "end_time": "2021-06-24T01:37:08.784226Z",
     "start_time": "2021-06-24T01:37:08.775144Z"
    }
   },
   "outputs": [
    {
     "data": {
      "text/html": [
       "<table class=\"simpletable\">\n",
       "<caption>OLS Regression Results</caption>\n",
       "<tr>\n",
       "  <th>Dep. Variable:</th>        <td>portfolio</td>    <th>  R-squared:         </th> <td>   0.832</td>\n",
       "</tr>\n",
       "<tr>\n",
       "  <th>Model:</th>                   <td>OLS</td>       <th>  Adj. R-squared:    </th> <td>   0.830</td>\n",
       "</tr>\n",
       "<tr>\n",
       "  <th>Method:</th>             <td>Least Squares</td>  <th>  F-statistic:       </th> <td>   384.2</td>\n",
       "</tr>\n",
       "<tr>\n",
       "  <th>Date:</th>             <td>Tue, 09 Aug 2022</td> <th>  Prob (F-statistic):</th> <td>8.57e-61</td>\n",
       "</tr>\n",
       "<tr>\n",
       "  <th>Time:</th>                 <td>18:21:19</td>     <th>  Log-Likelihood:    </th> <td>  476.28</td>\n",
       "</tr>\n",
       "<tr>\n",
       "  <th>No. Observations:</th>      <td>   158</td>      <th>  AIC:               </th> <td>  -946.6</td>\n",
       "</tr>\n",
       "<tr>\n",
       "  <th>Df Residuals:</th>          <td>   155</td>      <th>  BIC:               </th> <td>  -937.4</td>\n",
       "</tr>\n",
       "<tr>\n",
       "  <th>Df Model:</th>              <td>     2</td>      <th>                     </th>     <td> </td>   \n",
       "</tr>\n",
       "<tr>\n",
       "  <th>Covariance Type:</th>      <td>nonrobust</td>    <th>                     </th>     <td> </td>   \n",
       "</tr>\n",
       "</table>\n",
       "<table class=\"simpletable\">\n",
       "<tr>\n",
       "    <td></td>       <th>coef</th>     <th>std err</th>      <th>t</th>      <th>P>|t|</th>  <th>[0.025</th>    <th>0.975]</th>  \n",
       "</tr>\n",
       "<tr>\n",
       "  <th>const</th> <td>   -0.0009</td> <td>    0.001</td> <td>   -0.915</td> <td> 0.362</td> <td>   -0.003</td> <td>    0.001</td>\n",
       "</tr>\n",
       "<tr>\n",
       "  <th>SPY</th>   <td>    0.3843</td> <td>    0.035</td> <td>   11.072</td> <td> 0.000</td> <td>    0.316</td> <td>    0.453</td>\n",
       "</tr>\n",
       "<tr>\n",
       "  <th>HYG</th>   <td>    0.5166</td> <td>    0.058</td> <td>    8.977</td> <td> 0.000</td> <td>    0.403</td> <td>    0.630</td>\n",
       "</tr>\n",
       "</table>\n",
       "<table class=\"simpletable\">\n",
       "<tr>\n",
       "  <th>Omnibus:</th>       <td> 1.294</td> <th>  Durbin-Watson:     </th> <td>   2.246</td>\n",
       "</tr>\n",
       "<tr>\n",
       "  <th>Prob(Omnibus):</th> <td> 0.524</td> <th>  Jarque-Bera (JB):  </th> <td>   1.296</td>\n",
       "</tr>\n",
       "<tr>\n",
       "  <th>Skew:</th>          <td> 0.214</td> <th>  Prob(JB):          </th> <td>   0.523</td>\n",
       "</tr>\n",
       "<tr>\n",
       "  <th>Kurtosis:</th>      <td> 2.886</td> <th>  Cond. No.          </th> <td>    66.9</td>\n",
       "</tr>\n",
       "</table><br/><br/>Notes:<br/>[1] Standard Errors assume that the covariance matrix of the errors is correctly specified."
      ],
      "text/plain": [
       "<class 'statsmodels.iolib.summary.Summary'>\n",
       "\"\"\"\n",
       "                            OLS Regression Results                            \n",
       "==============================================================================\n",
       "Dep. Variable:              portfolio   R-squared:                       0.832\n",
       "Model:                            OLS   Adj. R-squared:                  0.830\n",
       "Method:                 Least Squares   F-statistic:                     384.2\n",
       "Date:                Tue, 09 Aug 2022   Prob (F-statistic):           8.57e-61\n",
       "Time:                        18:21:19   Log-Likelihood:                 476.28\n",
       "No. Observations:                 158   AIC:                            -946.6\n",
       "Df Residuals:                     155   BIC:                            -937.4\n",
       "Df Model:                           2                                         \n",
       "Covariance Type:            nonrobust                                         \n",
       "==============================================================================\n",
       "                 coef    std err          t      P>|t|      [0.025      0.975]\n",
       "------------------------------------------------------------------------------\n",
       "const         -0.0009      0.001     -0.915      0.362      -0.003       0.001\n",
       "SPY            0.3843      0.035     11.072      0.000       0.316       0.453\n",
       "HYG            0.5166      0.058      8.977      0.000       0.403       0.630\n",
       "==============================================================================\n",
       "Omnibus:                        1.294   Durbin-Watson:                   2.246\n",
       "Prob(Omnibus):                  0.524   Jarque-Bera (JB):                1.296\n",
       "Skew:                           0.214   Prob(JB):                        0.523\n",
       "Kurtosis:                       2.886   Cond. No.                         66.9\n",
       "==============================================================================\n",
       "\n",
       "Notes:\n",
       "[1] Standard Errors assume that the covariance matrix of the errors is correctly specified.\n",
       "\"\"\""
      ]
     },
     "execution_count": 6,
     "metadata": {},
     "output_type": "execute_result"
    }
   ],
   "source": [
    "X = sm.add_constant(rets[['SPY', 'HYG']])\n",
    "y = port\n",
    "mod_multi = sm.OLS(y, X).fit()\n",
    "mod_multi.summary()"
   ]
  },
  {
   "cell_type": "markdown",
   "id": "854561b6",
   "metadata": {},
   "source": [
    "Notice that the beta on SPY is much lower now that we include CL1. Also note that the R-squared is much higher."
   ]
  },
  {
   "cell_type": "markdown",
   "id": "67c497e1",
   "metadata": {},
   "source": [
    "## 3"
   ]
  },
  {
   "cell_type": "markdown",
   "id": "b3466d23",
   "metadata": {},
   "source": [
    "The squared correlation is exactly the R^2, as R^2 captures the correlation of Portfolio's return and the combined space spanned by both regressors."
   ]
  },
  {
   "cell_type": "code",
   "execution_count": 7,
   "id": "03991bdf",
   "metadata": {
    "ExecuteTime": {
     "end_time": "2021-06-24T01:37:08.788236Z",
     "start_time": "2021-06-24T01:37:08.784889Z"
    }
   },
   "outputs": [
    {
     "name": "stdout",
     "output_type": "stream",
     "text": [
      "Correlation between portfolio and replication: 91.22%.\n",
      "Square of this correaltion is 83.21%\n",
      "which equals the R-squared.\n"
     ]
    }
   ],
   "source": [
    "corr_port = port.corrwith(mod.fittedvalues)[0]\n",
    "corr_port_multi = port.corrwith(mod_multi.fittedvalues)[0]\n",
    "print(f'Correlation between portfolio and replication: {corr_port_multi:.2%}.')\n",
    "print(f'Square of this correaltion is {corr_port_multi**2:.2%}\\nwhich equals the R-squared.')"
   ]
  },
  {
   "cell_type": "markdown",
   "id": "5e48b19f",
   "metadata": {},
   "source": [
    "## 4"
   ]
  },
  {
   "cell_type": "code",
   "execution_count": 8,
   "id": "e362b40b",
   "metadata": {
    "ExecuteTime": {
     "end_time": "2021-06-24T01:37:08.791609Z",
     "start_time": "2021-06-24T01:37:08.789012Z"
    }
   },
   "outputs": [
    {
     "name": "stdout",
     "output_type": "stream",
     "text": [
      "Correlation between SPY and HYG is 73.8%\n"
     ]
    }
   ],
   "source": [
    "TICKreg1 = 'SPY'\n",
    "TICKreg2 = 'HYG'\n",
    "corrREGS = rets[TICKreg2].corr(rets[TICKreg1])\n",
    "print(f'Correlation between {TICKreg1} and {TICKreg2} is {corrREGS:.1%}')"
   ]
  },
  {
   "cell_type": "markdown",
   "id": "36661f63",
   "metadata": {},
   "source": [
    "The beta for SPY in (2) is much smaller than in (1). This is because HYG and SPY are significantly correlated, therefore a large proportion of the variation in the Portfolio return which was being attributed to SPY (in eq 1) was actually better explained by HYG. Thus, in eq (2) this gets attributed more directly to HYG, and less is attributed to SPY."
   ]
  },
  {
   "cell_type": "markdown",
   "id": "61f577aa",
   "metadata": {},
   "source": [
    "## 5"
   ]
  },
  {
   "cell_type": "markdown",
   "id": "c3ab71cf",
   "metadata": {},
   "source": [
    "Without doing calculation, the intuition is that the second regression includes HYG as a regressor. Sample residuals are always uncorrelated (in-sample) to the regressors. Thus, in this regression we know the sample residual will have zero correlation to HYG. In the first regression, HYG was not a regressor, so it may have substantial correlation to the sample residual.\n",
    "\n",
    "For population residuals, $\\epsilon$, we still expect much smaller correlation to HYG in the second regression, though this population residual may still have some correlation to HYG."
   ]
  },
  {
   "cell_type": "code",
   "execution_count": 9,
   "id": "7e2a3982",
   "metadata": {
    "ExecuteTime": {
     "end_time": "2021-06-24T01:37:08.794778Z",
     "start_time": "2021-06-24T01:37:08.792287Z"
    }
   },
   "outputs": [
    {
     "name": "stdout",
     "output_type": "stream",
     "text": [
      "Correlation between HYG and the sample residual:\n",
      "Univariate = SPY: 39.46%\n",
      "Multivariate = SPY and HYG: -0.00%\n"
     ]
    }
   ],
   "source": [
    "print(f'Correlation between {TICKreg2} and the sample residual:\\nUnivariate = {TICKreg1}: {rets[TICKreg2].corr(mod.resid):.2%}')\n",
    "print(f'Multivariate = {TICKreg1} and {TICKreg2}: {rets[TICKreg2].corr(mod_multi.resid):.2%}')"
   ]
  },
  {
   "cell_type": "markdown",
   "id": "693fc955",
   "metadata": {},
   "source": [
    "# 2. Decomposing and Replicating"
   ]
  },
  {
   "cell_type": "markdown",
   "id": "9f7bf944",
   "metadata": {},
   "source": [
    "## 1"
   ]
  },
  {
   "cell_type": "code",
   "execution_count": 10,
   "id": "20ed45fc",
   "metadata": {
    "ExecuteTime": {
     "end_time": "2021-06-24T01:37:08.805042Z",
     "start_time": "2021-06-24T01:37:08.800384Z"
    }
   },
   "outputs": [
    {
     "data": {
      "text/html": [
       "<style type=\"text/css\">\n",
       "</style>\n",
       "<table id=\"T_a37a6\">\n",
       "  <thead>\n",
       "    <tr>\n",
       "      <th class=\"blank level0\" >&nbsp;</th>\n",
       "      <th id=\"T_a37a6_level0_col0\" class=\"col_heading level0 col0\" >QAI</th>\n",
       "      <th id=\"T_a37a6_level0_col1\" class=\"col_heading level0 col1\" >IEF</th>\n",
       "      <th id=\"T_a37a6_level0_col2\" class=\"col_heading level0 col2\" >IYR</th>\n",
       "      <th id=\"T_a37a6_level0_col3\" class=\"col_heading level0 col3\" >PSP</th>\n",
       "      <th id=\"T_a37a6_level0_col4\" class=\"col_heading level0 col4\" >const</th>\n",
       "      <th id=\"T_a37a6_level0_col5\" class=\"col_heading level0 col5\" >TIP</th>\n",
       "      <th id=\"T_a37a6_level0_col6\" class=\"col_heading level0 col6\" >BWX</th>\n",
       "      <th id=\"T_a37a6_level0_col7\" class=\"col_heading level0 col7\" >HYG</th>\n",
       "      <th id=\"T_a37a6_level0_col8\" class=\"col_heading level0 col8\" >SPY</th>\n",
       "      <th id=\"T_a37a6_level0_col9\" class=\"col_heading level0 col9\" >EEM</th>\n",
       "      <th id=\"T_a37a6_level0_col10\" class=\"col_heading level0 col10\" >DBC</th>\n",
       "      <th id=\"T_a37a6_level0_col11\" class=\"col_heading level0 col11\" >EFA</th>\n",
       "      <th id=\"T_a37a6_level0_col12\" class=\"col_heading level0 col12\" >SHV</th>\n",
       "    </tr>\n",
       "  </thead>\n",
       "  <tbody>\n",
       "    <tr>\n",
       "      <th id=\"T_a37a6_level0_row0\" class=\"row_heading level0 row0\" >weights</th>\n",
       "      <td id=\"T_a37a6_row0_col0\" class=\"data row0 col0\" >0.25</td>\n",
       "      <td id=\"T_a37a6_row0_col1\" class=\"data row0 col1\" >0.25</td>\n",
       "      <td id=\"T_a37a6_row0_col2\" class=\"data row0 col2\" >0.25</td>\n",
       "      <td id=\"T_a37a6_row0_col3\" class=\"data row0 col3\" >0.25</td>\n",
       "      <td id=\"T_a37a6_row0_col4\" class=\"data row0 col4\" >0.00</td>\n",
       "      <td id=\"T_a37a6_row0_col5\" class=\"data row0 col5\" >-0.00</td>\n",
       "      <td id=\"T_a37a6_row0_col6\" class=\"data row0 col6\" >-0.00</td>\n",
       "      <td id=\"T_a37a6_row0_col7\" class=\"data row0 col7\" >-0.00</td>\n",
       "      <td id=\"T_a37a6_row0_col8\" class=\"data row0 col8\" >-0.00</td>\n",
       "      <td id=\"T_a37a6_row0_col9\" class=\"data row0 col9\" >-0.00</td>\n",
       "      <td id=\"T_a37a6_row0_col10\" class=\"data row0 col10\" >-0.00</td>\n",
       "      <td id=\"T_a37a6_row0_col11\" class=\"data row0 col11\" >-0.00</td>\n",
       "      <td id=\"T_a37a6_row0_col12\" class=\"data row0 col12\" >-0.00</td>\n",
       "    </tr>\n",
       "  </tbody>\n",
       "</table>\n"
      ],
      "text/plain": [
       "<pandas.io.formats.style.Styler at 0x12df8cdf0>"
      ]
     },
     "metadata": {},
     "output_type": "display_data"
    },
    {
     "data": {
      "text/html": [
       "<table class=\"simpletable\">\n",
       "<caption>OLS Regression Results</caption>\n",
       "<tr>\n",
       "  <th>Dep. Variable:</th>        <td>portfolio</td>    <th>  R-squared:         </th>  <td>   1.000</td> \n",
       "</tr>\n",
       "<tr>\n",
       "  <th>Model:</th>                   <td>OLS</td>       <th>  Adj. R-squared:    </th>  <td>   1.000</td> \n",
       "</tr>\n",
       "<tr>\n",
       "  <th>Method:</th>             <td>Least Squares</td>  <th>  F-statistic:       </th>  <td>7.609e+28</td>\n",
       "</tr>\n",
       "<tr>\n",
       "  <th>Date:</th>             <td>Tue, 09 Aug 2022</td> <th>  Prob (F-statistic):</th>   <td>  0.00</td>  \n",
       "</tr>\n",
       "<tr>\n",
       "  <th>Time:</th>                 <td>18:21:20</td>     <th>  Log-Likelihood:    </th>  <td>  5392.1</td> \n",
       "</tr>\n",
       "<tr>\n",
       "  <th>No. Observations:</th>      <td>   158</td>      <th>  AIC:               </th> <td>-1.076e+04</td>\n",
       "</tr>\n",
       "<tr>\n",
       "  <th>Df Residuals:</th>          <td>   145</td>      <th>  BIC:               </th> <td>-1.072e+04</td>\n",
       "</tr>\n",
       "<tr>\n",
       "  <th>Df Model:</th>              <td>    12</td>      <th>                     </th>      <td> </td>    \n",
       "</tr>\n",
       "<tr>\n",
       "  <th>Covariance Type:</th>      <td>nonrobust</td>    <th>                     </th>      <td> </td>    \n",
       "</tr>\n",
       "</table>\n",
       "<table class=\"simpletable\">\n",
       "<tr>\n",
       "    <td></td>       <th>coef</th>     <th>std err</th>      <th>t</th>      <th>P>|t|</th>  <th>[0.025</th>    <th>0.975]</th>  \n",
       "</tr>\n",
       "<tr>\n",
       "  <th>const</th> <td> 3.526e-16</td> <td> 3.94e-17</td> <td>    8.960</td> <td> 0.000</td> <td> 2.75e-16</td> <td>  4.3e-16</td>\n",
       "</tr>\n",
       "<tr>\n",
       "  <th>SPY</th>   <td>-5.274e-16</td> <td> 2.12e-15</td> <td>   -0.248</td> <td> 0.804</td> <td>-4.72e-15</td> <td> 3.67e-15</td>\n",
       "</tr>\n",
       "<tr>\n",
       "  <th>EFA</th>   <td>-8.361e-16</td> <td> 2.04e-15</td> <td>   -0.410</td> <td> 0.683</td> <td>-4.87e-15</td> <td>  3.2e-15</td>\n",
       "</tr>\n",
       "<tr>\n",
       "  <th>EEM</th>   <td>-5.794e-16</td> <td> 1.23e-15</td> <td>   -0.471</td> <td> 0.638</td> <td>-3.01e-15</td> <td> 1.85e-15</td>\n",
       "</tr>\n",
       "<tr>\n",
       "  <th>PSP</th>   <td>    0.2500</td> <td> 1.53e-15</td> <td> 1.64e+14</td> <td> 0.000</td> <td>    0.250</td> <td>    0.250</td>\n",
       "</tr>\n",
       "<tr>\n",
       "  <th>QAI</th>   <td>    0.2500</td> <td> 5.48e-15</td> <td> 4.56e+13</td> <td> 0.000</td> <td>    0.250</td> <td>    0.250</td>\n",
       "</tr>\n",
       "<tr>\n",
       "  <th>HYG</th>   <td>-3.539e-16</td> <td> 2.46e-15</td> <td>   -0.144</td> <td> 0.886</td> <td>-5.22e-15</td> <td> 4.52e-15</td>\n",
       "</tr>\n",
       "<tr>\n",
       "  <th>DBC</th>   <td>-6.713e-16</td> <td>  8.6e-16</td> <td>   -0.780</td> <td> 0.436</td> <td>-2.37e-15</td> <td> 1.03e-15</td>\n",
       "</tr>\n",
       "<tr>\n",
       "  <th>IYR</th>   <td>    0.2500</td> <td> 1.03e-15</td> <td> 2.42e+14</td> <td> 0.000</td> <td>    0.250</td> <td>    0.250</td>\n",
       "</tr>\n",
       "<tr>\n",
       "  <th>IEF</th>   <td>    0.2500</td> <td> 3.97e-15</td> <td>  6.3e+13</td> <td> 0.000</td> <td>    0.250</td> <td>    0.250</td>\n",
       "</tr>\n",
       "<tr>\n",
       "  <th>BWX</th>   <td>-1.527e-16</td> <td> 2.44e-15</td> <td>   -0.062</td> <td> 0.950</td> <td>-4.98e-15</td> <td> 4.68e-15</td>\n",
       "</tr>\n",
       "<tr>\n",
       "  <th>TIP</th>   <td>-1.388e-16</td> <td>  4.2e-15</td> <td>   -0.033</td> <td> 0.974</td> <td>-8.44e-15</td> <td> 8.16e-15</td>\n",
       "</tr>\n",
       "<tr>\n",
       "  <th>SHV</th>   <td>-2.019e-15</td> <td> 4.31e-14</td> <td>   -0.047</td> <td> 0.963</td> <td>-8.72e-14</td> <td> 8.32e-14</td>\n",
       "</tr>\n",
       "</table>\n",
       "<table class=\"simpletable\">\n",
       "<tr>\n",
       "  <th>Omnibus:</th>       <td>13.115</td> <th>  Durbin-Watson:     </th> <td>   0.533</td>\n",
       "</tr>\n",
       "<tr>\n",
       "  <th>Prob(Omnibus):</th> <td> 0.001</td> <th>  Jarque-Bera (JB):  </th> <td>  30.155</td>\n",
       "</tr>\n",
       "<tr>\n",
       "  <th>Skew:</th>          <td>-0.262</td> <th>  Prob(JB):          </th> <td>2.83e-07</td>\n",
       "</tr>\n",
       "<tr>\n",
       "  <th>Kurtosis:</th>      <td> 5.075</td> <th>  Cond. No.          </th> <td>1.42e+03</td>\n",
       "</tr>\n",
       "</table><br/><br/>Notes:<br/>[1] Standard Errors assume that the covariance matrix of the errors is correctly specified.<br/>[2] The condition number is large, 1.42e+03. This might indicate that there are<br/>strong multicollinearity or other numerical problems."
      ],
      "text/plain": [
       "<class 'statsmodels.iolib.summary.Summary'>\n",
       "\"\"\"\n",
       "                            OLS Regression Results                            \n",
       "==============================================================================\n",
       "Dep. Variable:              portfolio   R-squared:                       1.000\n",
       "Model:                            OLS   Adj. R-squared:                  1.000\n",
       "Method:                 Least Squares   F-statistic:                 7.609e+28\n",
       "Date:                Tue, 09 Aug 2022   Prob (F-statistic):               0.00\n",
       "Time:                        18:21:20   Log-Likelihood:                 5392.1\n",
       "No. Observations:                 158   AIC:                        -1.076e+04\n",
       "Df Residuals:                     145   BIC:                        -1.072e+04\n",
       "Df Model:                          12                                         \n",
       "Covariance Type:            nonrobust                                         \n",
       "==============================================================================\n",
       "                 coef    std err          t      P>|t|      [0.025      0.975]\n",
       "------------------------------------------------------------------------------\n",
       "const       3.526e-16   3.94e-17      8.960      0.000    2.75e-16     4.3e-16\n",
       "SPY        -5.274e-16   2.12e-15     -0.248      0.804   -4.72e-15    3.67e-15\n",
       "EFA        -8.361e-16   2.04e-15     -0.410      0.683   -4.87e-15     3.2e-15\n",
       "EEM        -5.794e-16   1.23e-15     -0.471      0.638   -3.01e-15    1.85e-15\n",
       "PSP            0.2500   1.53e-15   1.64e+14      0.000       0.250       0.250\n",
       "QAI            0.2500   5.48e-15   4.56e+13      0.000       0.250       0.250\n",
       "HYG        -3.539e-16   2.46e-15     -0.144      0.886   -5.22e-15    4.52e-15\n",
       "DBC        -6.713e-16    8.6e-16     -0.780      0.436   -2.37e-15    1.03e-15\n",
       "IYR            0.2500   1.03e-15   2.42e+14      0.000       0.250       0.250\n",
       "IEF            0.2500   3.97e-15    6.3e+13      0.000       0.250       0.250\n",
       "BWX        -1.527e-16   2.44e-15     -0.062      0.950   -4.98e-15    4.68e-15\n",
       "TIP        -1.388e-16    4.2e-15     -0.033      0.974   -8.44e-15    8.16e-15\n",
       "SHV        -2.019e-15   4.31e-14     -0.047      0.963   -8.72e-14    8.32e-14\n",
       "==============================================================================\n",
       "Omnibus:                       13.115   Durbin-Watson:                   0.533\n",
       "Prob(Omnibus):                  0.001   Jarque-Bera (JB):               30.155\n",
       "Skew:                          -0.262   Prob(JB):                     2.83e-07\n",
       "Kurtosis:                       5.075   Cond. No.                     1.42e+03\n",
       "==============================================================================\n",
       "\n",
       "Notes:\n",
       "[1] Standard Errors assume that the covariance matrix of the errors is correctly specified.\n",
       "[2] The condition number is large, 1.42e+03. This might indicate that there are\n",
       "strong multicollinearity or other numerical problems.\n",
       "\"\"\""
      ]
     },
     "execution_count": 10,
     "metadata": {},
     "output_type": "execute_result"
    }
   ],
   "source": [
    "X = sm.add_constant(rets)\n",
    "y = port\n",
    "mod_exact = sm.OLS(y, X).fit()\n",
    "display(mod_exact.params.to_frame().rename(columns={0:'weights'}).sort_values('weights',ascending=False).T.style.format('{:.2f}'))\n",
    "mod_exact.summary()"
   ]
  },
  {
   "cell_type": "markdown",
   "id": "2d29ddc9",
   "metadata": {},
   "source": [
    "## 2.2"
   ]
  },
  {
   "cell_type": "code",
   "execution_count": 11,
   "id": "418f2e44",
   "metadata": {
    "ExecuteTime": {
     "end_time": "2021-06-24T01:37:08.812093Z",
     "start_time": "2021-06-24T01:37:08.806286Z"
    }
   },
   "outputs": [
    {
     "data": {
      "text/html": [
       "<table class=\"simpletable\">\n",
       "<caption>OLS Regression Results</caption>\n",
       "<tr>\n",
       "  <th>Dep. Variable:</th>           <td>TIP</td>       <th>  R-squared:         </th> <td>   0.699</td>\n",
       "</tr>\n",
       "<tr>\n",
       "  <th>Model:</th>                   <td>OLS</td>       <th>  Adj. R-squared:    </th> <td>   0.667</td>\n",
       "</tr>\n",
       "<tr>\n",
       "  <th>Method:</th>             <td>Least Squares</td>  <th>  F-statistic:       </th> <td>   22.16</td>\n",
       "</tr>\n",
       "<tr>\n",
       "  <th>Date:</th>             <td>Tue, 09 Aug 2022</td> <th>  Prob (F-statistic):</th> <td>1.17e-22</td>\n",
       "</tr>\n",
       "<tr>\n",
       "  <th>Time:</th>                 <td>18:21:20</td>     <th>  Log-Likelihood:    </th> <td>  410.59</td>\n",
       "</tr>\n",
       "<tr>\n",
       "  <th>No. Observations:</th>      <td>   117</td>      <th>  AIC:               </th> <td>  -797.2</td>\n",
       "</tr>\n",
       "<tr>\n",
       "  <th>Df Residuals:</th>          <td>   105</td>      <th>  BIC:               </th> <td>  -764.0</td>\n",
       "</tr>\n",
       "<tr>\n",
       "  <th>Df Model:</th>              <td>    11</td>      <th>                     </th>     <td> </td>   \n",
       "</tr>\n",
       "<tr>\n",
       "  <th>Covariance Type:</th>      <td>nonrobust</td>    <th>                     </th>     <td> </td>   \n",
       "</tr>\n",
       "</table>\n",
       "<table class=\"simpletable\">\n",
       "<tr>\n",
       "    <td></td>       <th>coef</th>     <th>std err</th>      <th>t</th>      <th>P>|t|</th>  <th>[0.025</th>    <th>0.975]</th>  \n",
       "</tr>\n",
       "<tr>\n",
       "  <th>const</th> <td>    0.0012</td> <td>    0.001</td> <td>    1.199</td> <td> 0.233</td> <td>   -0.001</td> <td>    0.003</td>\n",
       "</tr>\n",
       "<tr>\n",
       "  <th>SPY</th>   <td>   -0.0385</td> <td>    0.057</td> <td>   -0.670</td> <td> 0.505</td> <td>   -0.152</td> <td>    0.075</td>\n",
       "</tr>\n",
       "<tr>\n",
       "  <th>EFA</th>   <td>   -0.0213</td> <td>    0.048</td> <td>   -0.442</td> <td> 0.660</td> <td>   -0.117</td> <td>    0.074</td>\n",
       "</tr>\n",
       "<tr>\n",
       "  <th>EEM</th>   <td>    0.0676</td> <td>    0.028</td> <td>    2.424</td> <td> 0.017</td> <td>    0.012</td> <td>    0.123</td>\n",
       "</tr>\n",
       "<tr>\n",
       "  <th>PSP</th>   <td>    0.0291</td> <td>    0.038</td> <td>    0.769</td> <td> 0.444</td> <td>   -0.046</td> <td>    0.104</td>\n",
       "</tr>\n",
       "<tr>\n",
       "  <th>QAI</th>   <td>    0.0880</td> <td>    0.127</td> <td>    0.695</td> <td> 0.489</td> <td>   -0.163</td> <td>    0.339</td>\n",
       "</tr>\n",
       "<tr>\n",
       "  <th>HYG</th>   <td>   -0.0805</td> <td>    0.060</td> <td>   -1.347</td> <td> 0.181</td> <td>   -0.199</td> <td>    0.038</td>\n",
       "</tr>\n",
       "<tr>\n",
       "  <th>DBC</th>   <td>    0.0759</td> <td>    0.021</td> <td>    3.600</td> <td> 0.000</td> <td>    0.034</td> <td>    0.118</td>\n",
       "</tr>\n",
       "<tr>\n",
       "  <th>IYR</th>   <td>    0.0250</td> <td>    0.026</td> <td>    0.950</td> <td> 0.344</td> <td>   -0.027</td> <td>    0.077</td>\n",
       "</tr>\n",
       "<tr>\n",
       "  <th>IEF</th>   <td>    0.6629</td> <td>    0.072</td> <td>    9.201</td> <td> 0.000</td> <td>    0.520</td> <td>    0.806</td>\n",
       "</tr>\n",
       "<tr>\n",
       "  <th>BWX</th>   <td>-4.003e-05</td> <td>    0.056</td> <td>   -0.001</td> <td> 0.999</td> <td>   -0.111</td> <td>    0.111</td>\n",
       "</tr>\n",
       "<tr>\n",
       "  <th>SHV</th>   <td>   -1.8066</td> <td>    1.448</td> <td>   -1.248</td> <td> 0.215</td> <td>   -4.677</td> <td>    1.064</td>\n",
       "</tr>\n",
       "</table>\n",
       "<table class=\"simpletable\">\n",
       "<tr>\n",
       "  <th>Omnibus:</th>       <td> 4.571</td> <th>  Durbin-Watson:     </th> <td>   2.100</td>\n",
       "</tr>\n",
       "<tr>\n",
       "  <th>Prob(Omnibus):</th> <td> 0.102</td> <th>  Jarque-Bera (JB):  </th> <td>   4.120</td>\n",
       "</tr>\n",
       "<tr>\n",
       "  <th>Skew:</th>          <td>-0.342</td> <th>  Prob(JB):          </th> <td>   0.127</td>\n",
       "</tr>\n",
       "<tr>\n",
       "  <th>Kurtosis:</th>      <td> 3.614</td> <th>  Cond. No.          </th> <td>2.05e+03</td>\n",
       "</tr>\n",
       "</table><br/><br/>Notes:<br/>[1] Standard Errors assume that the covariance matrix of the errors is correctly specified.<br/>[2] The condition number is large, 2.05e+03. This might indicate that there are<br/>strong multicollinearity or other numerical problems."
      ],
      "text/plain": [
       "<class 'statsmodels.iolib.summary.Summary'>\n",
       "\"\"\"\n",
       "                            OLS Regression Results                            \n",
       "==============================================================================\n",
       "Dep. Variable:                    TIP   R-squared:                       0.699\n",
       "Model:                            OLS   Adj. R-squared:                  0.667\n",
       "Method:                 Least Squares   F-statistic:                     22.16\n",
       "Date:                Tue, 09 Aug 2022   Prob (F-statistic):           1.17e-22\n",
       "Time:                        18:21:20   Log-Likelihood:                 410.59\n",
       "No. Observations:                 117   AIC:                            -797.2\n",
       "Df Residuals:                     105   BIC:                            -764.0\n",
       "Df Model:                          11                                         \n",
       "Covariance Type:            nonrobust                                         \n",
       "==============================================================================\n",
       "                 coef    std err          t      P>|t|      [0.025      0.975]\n",
       "------------------------------------------------------------------------------\n",
       "const          0.0012      0.001      1.199      0.233      -0.001       0.003\n",
       "SPY           -0.0385      0.057     -0.670      0.505      -0.152       0.075\n",
       "EFA           -0.0213      0.048     -0.442      0.660      -0.117       0.074\n",
       "EEM            0.0676      0.028      2.424      0.017       0.012       0.123\n",
       "PSP            0.0291      0.038      0.769      0.444      -0.046       0.104\n",
       "QAI            0.0880      0.127      0.695      0.489      -0.163       0.339\n",
       "HYG           -0.0805      0.060     -1.347      0.181      -0.199       0.038\n",
       "DBC            0.0759      0.021      3.600      0.000       0.034       0.118\n",
       "IYR            0.0250      0.026      0.950      0.344      -0.027       0.077\n",
       "IEF            0.6629      0.072      9.201      0.000       0.520       0.806\n",
       "BWX        -4.003e-05      0.056     -0.001      0.999      -0.111       0.111\n",
       "SHV           -1.8066      1.448     -1.248      0.215      -4.677       1.064\n",
       "==============================================================================\n",
       "Omnibus:                        4.571   Durbin-Watson:                   2.100\n",
       "Prob(Omnibus):                  0.102   Jarque-Bera (JB):                4.120\n",
       "Skew:                          -0.342   Prob(JB):                        0.127\n",
       "Kurtosis:                       3.614   Cond. No.                     2.05e+03\n",
       "==============================================================================\n",
       "\n",
       "Notes:\n",
       "[1] Standard Errors assume that the covariance matrix of the errors is correctly specified.\n",
       "[2] The condition number is large, 2.05e+03. This might indicate that there are\n",
       "strong multicollinearity or other numerical problems.\n",
       "\"\"\""
      ]
     },
     "execution_count": 11,
     "metadata": {},
     "output_type": "execute_result"
    }
   ],
   "source": [
    "T1 = '2018'\n",
    "T2 = '2019'\n",
    "TICKrep = 'TIP'\n",
    "\n",
    "rets_IS = rets.loc[:T1,:]\n",
    "\n",
    "X = sm.add_constant(rets_IS.drop(columns=TICKrep))\n",
    "y = rets_IS[[TICKrep]]\n",
    "mod_replicate = sm.OLS(y, X).fit()\n",
    "mod_replicate.summary()"
   ]
  },
  {
   "cell_type": "markdown",
   "id": "49224843",
   "metadata": {},
   "source": [
    "### The R-squared is reported in the table above.\n",
    "\n",
    "Note that while we can estimate an R-squared, it doesn't make much sense in a regression without an intercept. \n",
    "- It does not need to be between 0 and 1.\n",
    "\n",
    "The stats-models Python package puts a \"Note\" at the bottom of the table above reminding users of that fact."
   ]
  },
  {
   "cell_type": "markdown",
   "id": "b1a5c7e5",
   "metadata": {},
   "source": [
    "### See the t-stats below, in descending order:"
   ]
  },
  {
   "cell_type": "code",
   "execution_count": 12,
   "id": "90cbb023",
   "metadata": {},
   "outputs": [
    {
     "data": {
      "text/html": [
       "<style type=\"text/css\">\n",
       "</style>\n",
       "<table id=\"T_74c6b\">\n",
       "  <thead>\n",
       "    <tr>\n",
       "      <th class=\"blank level0\" >&nbsp;</th>\n",
       "      <th id=\"T_74c6b_level0_col0\" class=\"col_heading level0 col0\" >IEF</th>\n",
       "      <th id=\"T_74c6b_level0_col1\" class=\"col_heading level0 col1\" >DBC</th>\n",
       "      <th id=\"T_74c6b_level0_col2\" class=\"col_heading level0 col2\" >EEM</th>\n",
       "      <th id=\"T_74c6b_level0_col3\" class=\"col_heading level0 col3\" >const</th>\n",
       "      <th id=\"T_74c6b_level0_col4\" class=\"col_heading level0 col4\" >IYR</th>\n",
       "      <th id=\"T_74c6b_level0_col5\" class=\"col_heading level0 col5\" >PSP</th>\n",
       "      <th id=\"T_74c6b_level0_col6\" class=\"col_heading level0 col6\" >QAI</th>\n",
       "      <th id=\"T_74c6b_level0_col7\" class=\"col_heading level0 col7\" >BWX</th>\n",
       "      <th id=\"T_74c6b_level0_col8\" class=\"col_heading level0 col8\" >EFA</th>\n",
       "      <th id=\"T_74c6b_level0_col9\" class=\"col_heading level0 col9\" >SPY</th>\n",
       "      <th id=\"T_74c6b_level0_col10\" class=\"col_heading level0 col10\" >SHV</th>\n",
       "      <th id=\"T_74c6b_level0_col11\" class=\"col_heading level0 col11\" >HYG</th>\n",
       "    </tr>\n",
       "  </thead>\n",
       "  <tbody>\n",
       "    <tr>\n",
       "      <th id=\"T_74c6b_level0_row0\" class=\"row_heading level0 row0\" >t-stats</th>\n",
       "      <td id=\"T_74c6b_row0_col0\" class=\"data row0 col0\" >9.2</td>\n",
       "      <td id=\"T_74c6b_row0_col1\" class=\"data row0 col1\" >3.6</td>\n",
       "      <td id=\"T_74c6b_row0_col2\" class=\"data row0 col2\" >2.4</td>\n",
       "      <td id=\"T_74c6b_row0_col3\" class=\"data row0 col3\" >1.2</td>\n",
       "      <td id=\"T_74c6b_row0_col4\" class=\"data row0 col4\" >0.9</td>\n",
       "      <td id=\"T_74c6b_row0_col5\" class=\"data row0 col5\" >0.8</td>\n",
       "      <td id=\"T_74c6b_row0_col6\" class=\"data row0 col6\" >0.7</td>\n",
       "      <td id=\"T_74c6b_row0_col7\" class=\"data row0 col7\" >-0.0</td>\n",
       "      <td id=\"T_74c6b_row0_col8\" class=\"data row0 col8\" >-0.4</td>\n",
       "      <td id=\"T_74c6b_row0_col9\" class=\"data row0 col9\" >-0.7</td>\n",
       "      <td id=\"T_74c6b_row0_col10\" class=\"data row0 col10\" >-1.2</td>\n",
       "      <td id=\"T_74c6b_row0_col11\" class=\"data row0 col11\" >-1.3</td>\n",
       "    </tr>\n",
       "  </tbody>\n",
       "</table>\n"
      ],
      "text/plain": [
       "<pandas.io.formats.style.Styler at 0x12ede0d60>"
      ]
     },
     "execution_count": 12,
     "metadata": {},
     "output_type": "execute_result"
    }
   ],
   "source": [
    "mod_replicate.tvalues.sort_values(ascending=False).to_frame().rename(columns={0:'t-stats'}).T.style.format('{:.1f}')"
   ]
  },
  {
   "cell_type": "code",
   "execution_count": 13,
   "id": "c9876df7",
   "metadata": {},
   "outputs": [
    {
     "data": {
      "image/png": "[encoded data removed]",
      "text/plain": [
       "<Figure size 864x360 with 1 Axes>"
      ]
     },
     "metadata": {
      "needs_background": "light"
     },
     "output_type": "display_data"
    }
   ],
   "source": [
    "pd.concat([y, mod_replicate.fittedvalues.rename('IS Replication')], axis=1).plot(figsize=(12, 5))\n",
    "plt.show()"
   ]
  },
  {
   "cell_type": "markdown",
   "id": "4a6a6403",
   "metadata": {},
   "source": [
    "## 2.3"
   ]
  },
  {
   "cell_type": "code",
   "execution_count": 14,
   "id": "b4d76a13",
   "metadata": {
    "ExecuteTime": {
     "end_time": "2021-06-24T01:37:08.826712Z",
     "start_time": "2021-06-24T01:37:08.822348Z"
    }
   },
   "outputs": [],
   "source": [
    "reg = LinearRegression(fit_intercept=True).fit(X,y)\n",
    "fit_comp_IS = pd.concat([y,pd.DataFrame(reg.predict(X),index=y.index)],axis=1).rename(columns={0:'IS'})\n",
    "corr_IS = fit_comp_IS.corr().iloc[0,1]"
   ]
  },
  {
   "cell_type": "code",
   "execution_count": 15,
   "id": "b7b37319",
   "metadata": {},
   "outputs": [],
   "source": [
    "rets_OOS = rets.loc[T2:,:]\n",
    "X = sm.add_constant(rets_OOS.drop(columns=TICKrep))\n",
    "y = rets_OOS[[TICKrep]]\n",
    "\n",
    "fit_comp_OOS = pd.concat([y,pd.DataFrame(reg.predict(X),index=y.index)],axis=1).rename(columns={0:'OOS'})\n",
    "corr_OOS = fit_comp_OOS.corr().iloc[0,1]"
   ]
  },
  {
   "cell_type": "code",
   "execution_count": 16,
   "id": "06b5f30c",
   "metadata": {},
   "outputs": [
    {
     "name": "stdout",
     "output_type": "stream",
     "text": [
      "Correlation between TIP and Replicating Portfolio\n",
      "In-Sample: 83.6%\n",
      "Out-of-Sample: 80.0%\n"
     ]
    }
   ],
   "source": [
    "print(f'Correlation between {TICKrep} and Replicating Portfolio')\n",
    "print(f'In-Sample: {corr_IS:.1%}')\n",
    "print(f'Out-of-Sample: {corr_OOS:.1%}')"
   ]
  },
  {
   "cell_type": "code",
   "execution_count": 17,
   "id": "e2edd98f",
   "metadata": {},
   "outputs": [
    {
     "data": {
      "image/png": "[encoded data removed]",
      "text/plain": [
       "<Figure size 864x360 with 1 Axes>"
      ]
     },
     "metadata": {
      "needs_background": "light"
     },
     "output_type": "display_data"
    }
   ],
   "source": [
    "fit_comp_OOS.plot(figsize=(12, 5))\n",
    "plt.show()"
   ]
  }
 ],
 "metadata": {
  "hide_input": false,
  "kernelspec": {
   "display_name": "Python 3 (ipykernel)",
   "language": "python",
   "name": "python3"
  },
  "language_info": {
   "codemirror_mode": {
    "name": "ipython",
    "version": 3
   },
   "file_extension": ".py",
   "mimetype": "text/x-python",
   "name": "python",
   "nbconvert_exporter": "python",
   "pygments_lexer": "ipython3",
   "version": "3.9.7"
  },
  "toc": {
   "base_numbering": 1,
   "nav_menu": {},
   "number_sections": true,
   "sideBar": true,
   "skip_h1_title": false,
   "title_cell": "Table of Contents",
   "title_sidebar": "Contents",
   "toc_cell": false,
   "toc_position": {},
   "toc_section_display": true,
   "toc_window_display": false
  },
  "varInspector": {
   "cols": {
    "lenName": 16,
    "lenType": 16,
    "lenVar": 40
   },
   "kernels_config": {
    "python": {
     "delete_cmd_postfix": "",
     "delete_cmd_prefix": "del ",
     "library": "var_list.py",
     "varRefreshCmd": "print(var_dic_list())"
    },
    "r": {
     "delete_cmd_postfix": ") ",
     "delete_cmd_prefix": "rm(",
     "library": "var_list.r",
     "varRefreshCmd": "cat(var_dic_list()) "
    }
   },
   "types_to_exclude": [
    "module",
    "function",
    "builtin_function_or_method",
    "instance",
    "_Feature"
   ],
   "window_display": false
  }
 },
 "nbformat": 4,
 "nbformat_minor": 5
}
